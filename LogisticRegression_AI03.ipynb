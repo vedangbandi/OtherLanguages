{
  "nbformat": 4,
  "nbformat_minor": 0,
  "metadata": {
    "colab": {
      "provenance": [],
      "authorship_tag": "ABX9TyMKD56QoM8Hyl6Fm80V46db",
      "include_colab_link": true
    },
    "kernelspec": {
      "name": "python3",
      "display_name": "Python 3"
    },
    "language_info": {
      "name": "python"
    }
  },
  "cells": [
    {
      "cell_type": "markdown",
      "metadata": {
        "id": "view-in-github",
        "colab_type": "text"
      },
      "source": [
        "<a href=\"https://colab.research.google.com/github/vedangbandi/OtherLanguages/blob/main/LogisticRegression_AI03.ipynb\" target=\"_parent\"><img src=\"https://colab.research.google.com/assets/colab-badge.svg\" alt=\"Open In Colab\"/></a>"
      ]
    },
    {
      "cell_type": "code",
      "execution_count": 1,
      "metadata": {
        "colab": {
          "base_uri": "https://localhost:8080/"
        },
        "id": "DMfO9Na1NmF8",
        "outputId": "e175206f-6bc7-42f7-fd0b-e6fbe30ec96a"
      },
      "outputs": [
        {
          "name": "stdout",
          "output_type": "stream",
          "text": [
            "Enter the number of values: 3\n"
          ]
        }
      ],
      "source": [
        "import matplotlib.pyplot as plt\n",
        "import numpy as np\n",
        "\n",
        "# Prompt the user to input the number of data points\n",
        "n = int(input(\"Enter the number of values: \"))"
      ]
    },
    {
      "cell_type": "code",
      "source": [
        "# Prompt the user to input the independent variables X1 and X2\n",
        "X1 = [float(x) for x in input(\"Enter X1 values separated by commas: \").split(',')]\n",
        "X2 = [float(x) for x in input(\"Enter X2 values separated by commas: \").split(',')]\n",
        "\n",
        "# Prompt the user to input the dependent variable Y\n",
        "Y = [float(y) for y in input(\"Enter Y values separated by commas: \").split(',')]\n"
      ],
      "metadata": {
        "colab": {
          "base_uri": "https://localhost:8080/"
        },
        "id": "xlBONKw4N7ax",
        "outputId": "c3ece27f-42e8-4277-e821-fa6d408d2ba3"
      },
      "execution_count": 2,
      "outputs": [
        {
          "name": "stdout",
          "output_type": "stream",
          "text": [
            "Enter X1 values separated by commas: 23,21,23\n",
            "Enter X2 values separated by commas: 43,21,45\n",
            "Enter Y values separated by commas: 1,1,0\n"
          ]
        }
      ]
    },
    {
      "cell_type": "code",
      "source": [
        "# Convert the input lists to NumPy arrays for easier manipulation\n",
        "X1_array = np.array(X1)\n",
        "X2_array = np.array(X2)\n",
        "Y_array = np.array(Y)\n"
      ],
      "metadata": {
        "id": "wIxrqbqwOFOq"
      },
      "execution_count": 3,
      "outputs": []
    },
    {
      "cell_type": "code",
      "source": [
        "# Initialize coefficients for the logistic regression model\n",
        "b0 = 0\n",
        "b1 = 0\n",
        "b2 = 0"
      ],
      "metadata": {
        "id": "SwT5ldpVOHIw"
      },
      "execution_count": 4,
      "outputs": []
    },
    {
      "cell_type": "code",
      "source": [
        "# Prompt the user to input the threshold value for classification\n",
        "s = float(input(\"Enter the threshold value (between 0 and 1): \"))\n",
        "\n",
        "# Validate the threshold value\n",
        "while s < 0 or s > 1:\n",
        "    print(\"Error: Threshold value must be between 0 and 1.\")\n",
        "    s = float(input(\"Enter the threshold value (between 0 and 1): \"))\n",
        "    # Display the initialized coefficients and threshold\n",
        "print(\"Intercept (b0):\", b0)\n",
        "print(\"Logistic coefficient for X1 (b1):\", b1)\n",
        "print(\"Logistic coefficient for X2 (b2):\", b2)\n",
        "print(\"Threshold (s):\", s)\n",
        "\n",
        "# Initialize an empty list to store the logistic predictions\n",
        "p = []"
      ],
      "metadata": {
        "colab": {
          "base_uri": "https://localhost:8080/"
        },
        "id": "-wkw5Ak-OKEB",
        "outputId": "a912d34c-a3be-4f9c-8fc0-5839761388aa"
      },
      "execution_count": 6,
      "outputs": [
        {
          "output_type": "stream",
          "name": "stdout",
          "text": [
            "Enter the threshold value (between 0 and 1): 1\n",
            "Intercept (b0): 0\n",
            "Logistic coefficient for X1 (b1): 0\n",
            "Logistic coefficient for X2 (b2): 0\n",
            "Threshold (s): 1.0\n"
          ]
        }
      ]
    },
    {
      "cell_type": "code",
      "source": [
        "# Iterate through each data point\n",
        "for i in range(n):\n",
        "    # Compute the linear combination of coefficients and independent variables\n",
        "    z = b0 + b1 * X1_array[i] + b2 * X2_array[i]\n",
        "\n",
        "    # Compute the logistic function\n",
        "    logistic = 1 / (1 + np.exp(-z))\n",
        "\n",
        "    # Append the logistic prediction to the list\n",
        "    p.append(logistic)\n",
        "\n",
        "    # Update the coefficients using gradient ascent\n",
        "    b0 = b0 + s * (Y[i] - logistic) * logistic * (1 - logistic) * 1\n",
        "    b1 = b1 + s * (Y[i] - logistic) * logistic * (1 - logistic) * X1[i]\n",
        "    b2 = b2 + s * (Y[i] - logistic) * logistic * (1 - logistic) * X2[i]"
      ],
      "metadata": {
        "id": "gc86uyqIOgBg"
      },
      "execution_count": 7,
      "outputs": []
    },
    {
      "cell_type": "code",
      "source": [
        "# Define the threshold for classification\n",
        "threshold = 0.3\n",
        "\n",
        "# Apply the threshold to convert probabilities to binary predictions\n",
        "p_binary = [1 if prob >= threshold else 0 for prob in p]\n",
        "\n",
        "# Display the binary predictions\n",
        "print(\"Updated 'p' based on threshold:\", p_binary)\n",
        "\n",
        "# Print the header for the results\n",
        "print(\"X1\\tX2\\tActual Class\\tPrediction\\tPredicted Class\")\n",
        "\n",
        "# Iterate through each data point and print the results\n",
        "for i in range(n):\n",
        "    print(f\"{X1[i]}\\t{X2[i]}\\t{Y[i]}\\t\\t{p[i]}\\t\\t{p_binary[i]}\")"
      ],
      "metadata": {
        "colab": {
          "base_uri": "https://localhost:8080/"
        },
        "id": "iRd1KHI_OZhH",
        "outputId": "37250183-59ed-41f2-9eda-1ddeeb01c6ff"
      },
      "execution_count": 8,
      "outputs": [
        {
          "output_type": "stream",
          "name": "stdout",
          "text": [
            "Updated 'p' based on threshold: [1, 1, 1]\n",
            "X1\tX2\tActual Class\tPrediction\tPredicted Class\n",
            "23.0\t43.0\t1.0\t\t0.5\t\t1\n",
            "21.0\t21.0\t1.0\t\t1.0\t\t1\n",
            "23.0\t45.0\t0.0\t\t1.0\t\t1\n"
          ]
        }
      ]
    }
  ]
}